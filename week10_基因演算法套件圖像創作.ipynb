{
  "nbformat": 4,
  "nbformat_minor": 0,
  "metadata": {
    "colab": {
      "provenance": [],
      "include_colab_link": true
    },
    "kernelspec": {
      "name": "python3",
      "display_name": "Python 3"
    },
    "language_info": {
      "name": "python"
    }
  },
  "cells": [
    {
      "cell_type": "markdown",
      "metadata": {
        "id": "view-in-github",
        "colab_type": "text"
      },
      "source": [
        "<a href=\"https://colab.research.google.com/github/hicbcb/123/blob/main/week10_%E5%9F%BA%E5%9B%A0%E6%BC%94%E7%AE%97%E6%B3%95%E5%A5%97%E4%BB%B6%E5%9C%96%E5%83%8F%E5%89%B5%E4%BD%9C.ipynb\" target=\"_parent\"><img src=\"https://colab.research.google.com/assets/colab-badge.svg\" alt=\"Open In Colab\"/></a>"
      ]
    },
    {
      "cell_type": "code",
      "execution_count": null,
      "metadata": {
        "colab": {
          "base_uri": "https://localhost:8080/"
        },
        "id": "AtlVwyUeJRy-",
        "outputId": "e93ead6a-8bee-4946-eee9-9ce374131a03"
      },
      "outputs": [
        {
          "output_type": "stream",
          "name": "stdout",
          "text": [
            "Cloning into 'Circle-Evolution'...\n",
            "remote: Enumerating objects: 314, done.\u001b[K\n",
            "remote: Counting objects: 100% (69/69), done.\u001b[K\n",
            "remote: Compressing objects: 100% (37/37), done.\u001b[K\n",
            "remote: Total 314 (delta 37), reused 53 (delta 32), pack-reused 245\u001b[K\n",
            "Receiving objects: 100% (314/314), 498.80 KiB | 4.16 MiB/s, done.\n",
            "Resolving deltas: 100% (160/160), done.\n"
          ]
        }
      ],
      "source": [
        "!git clone https://github.com/hicbcb/Circle-Evolution.git"
      ]
    },
    {
      "cell_type": "code",
      "source": [
        "%cd  Circle-Evolution"
      ],
      "metadata": {
        "colab": {
          "base_uri": "https://localhost:8080/"
        },
        "id": "k8hGDMzXJm6W",
        "outputId": "aeb248f4-16e9-4b2f-b9a5-2337efe026f6"
      },
      "execution_count": null,
      "outputs": [
        {
          "output_type": "stream",
          "name": "stdout",
          "text": [
            "/content/Circle-Evolution\n"
          ]
        }
      ]
    },
    {
      "cell_type": "code",
      "source": [
        "import numpy as np\n",
        "\n",
        "# 剛裝好的套件(基因演算法)\n",
        "from circle_evolution import evolution\n",
        "from circle_evolution import helpers"
      ],
      "metadata": {
        "id": "IFKi6uN4KPxT"
      },
      "execution_count": null,
      "outputs": []
    },
    {
      "cell_type": "code",
      "source": [
        "# 定義圖片路徑\n",
        "img_path = \"/content/target_img.jpg\"\n",
        "\n",
        "# 讀取local圖片\n",
        "with open(img_path, 'rb') as file:\n",
        "  img_data = file.read()\n",
        "\n",
        "# 把圖片存成.jpg檔案\n",
        "with open('img_name.jpg', 'wb') as handler:\n",
        "  handler.write(img_data)\n"
      ],
      "metadata": {
        "id": "rOQkiI_ZLLYb"
      },
      "execution_count": null,
      "outputs": []
    },
    {
      "cell_type": "code",
      "source": [
        "# 使用套件工具讀取影像\n",
        "target = helpers.load_target_image(\"img_name.jpg\", size=(100, 100))\n",
        "\n",
        "# 使用基因演算法，設定基因基本設定(幾組基因變化)\n",
        "e = evolution.Evolution(target, genes=128)\n",
        "e.evolve(max_generation= 50000)"
      ],
      "metadata": {
        "colab": {
          "base_uri": "https://localhost:8080/",
          "height": 423
        },
        "id": "098dMoPBMxsJ",
        "outputId": "41bdb5c6-d14b-4b8d-91af-454f69faab1b"
      },
      "execution_count": null,
      "outputs": [
        {
          "output_type": "display_data",
          "data": {
            "text/plain": [
              "<Figure size 640x480 with 1 Axes>"
            ],
            "image/png": "[encoded data removed]"
          },
          "metadata": {}
        },
        {
          "output_type": "stream",
          "name": "stdout",
          "text": [
            "GEN 49974, FIT 0.99148492\n"
          ]
        }
      ]
    }
  ]
}